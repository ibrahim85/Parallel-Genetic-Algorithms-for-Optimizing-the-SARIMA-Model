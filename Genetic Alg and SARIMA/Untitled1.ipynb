{
 "cells": [
  {
   "cell_type": "code",
   "execution_count": 26,
   "metadata": {},
   "outputs": [],
   "source": [
    "import numpy as np\n",
    "def printx(x,y):\n",
    "    if x=='normal':\n",
    "        return(y)\n",
    "    elif x =='normalized':\n",
    "        return(y)\n",
    "    elif x =='log':\n",
    "        return(np.log(y))\n",
    "    elif x =='loglog':\n",
    "        return(np.log(np.log(y)))"
   ]
  },
  {
   "cell_type": "code",
   "execution_count": 32,
   "metadata": {},
   "outputs": [
    {
     "name": "stdout",
     "output_type": "stream",
     "text": [
      "8\n",
      "8\n",
      "2.0794415416798357\n",
      "0.7320993680864453\n"
     ]
    }
   ],
   "source": [
    "y=8\n",
    "for i in ['normal', 'normalized', 'log', 'loglog']:\n",
    "    print(printx(i,y))"
   ]
  },
  {
   "cell_type": "code",
   "execution_count": 35,
   "metadata": {},
   "outputs": [],
   "source": [
    "f= open(\"test.txt\",\"w+\")\n",
    "for i in ['normal', 'normalized', 'log', 'loglog']:\n",
    "    f.write(str(printx(i,y)))\n",
    "    f.write('\\n --------------------- \\n')"
   ]
  },
  {
   "cell_type": "code",
   "execution_count": 36,
   "metadata": {},
   "outputs": [],
   "source": [
    "f.close()"
   ]
  },
  {
   "cell_type": "code",
   "execution_count": 39,
   "metadata": {},
   "outputs": [],
   "source": [
    "from pandas import DataFrame\n",
    "from scipy import stats\n",
    "import pandas as pd\n",
    "import numpy as np\n",
    "from pandas import read_csv\n",
    "from pandas import datetime\n",
    "#preprocess\n",
    "from sklearn.preprocessing import scale\n",
    "from sklearn.preprocessing import MinMaxScaler\n",
    "\n",
    "def parser(x):\n",
    "\treturn datetime.strptime(x, '%Y-%m-%d')\n",
    "filename='433440-99999-merge.csv'\n",
    "#filename='india_all_stations_comma.txt'\n",
    "series = read_csv( filename, header=0, parse_dates=[0], index_col=0, squeeze=True, date_parser=parser)\n",
    "series=series.dropna(axis=0)"
   ]
  },
  {
   "cell_type": "code",
   "execution_count": 40,
   "metadata": {},
   "outputs": [
    {
     "name": "stdout",
     "output_type": "stream",
     "text": [
      "YEARMODA\n",
      "2000-01-01    76.0\n",
      "2000-01-02    77.1\n",
      "2000-01-03    76.0\n",
      "2000-01-04    77.3\n",
      "2000-01-05    76.9\n",
      "Name: TEMP, dtype: float64\n",
      "Min: 69.000000, Max: 95.100000\n",
      "[0.26819923]\n",
      "[0.31034483]\n",
      "[0.26819923]\n",
      "[0.31800766]\n",
      "[0.30268199]\n",
      "[76.]\n",
      "[77.1]\n",
      "[76.]\n",
      "[77.3]\n",
      "[76.9]\n"
     ]
    }
   ],
   "source": [
    "print(series.head())\n",
    "# prepare data for normalization\n",
    "values = series.values\n",
    "values = values.reshape((len(values), 1))\n",
    "# train the normalization\n",
    "scaler = MinMaxScaler(feature_range=(0, 1))\n",
    "scaler = scaler.fit(values)\n",
    "print('Min: %f, Max: %f' % (scaler.data_min_, scaler.data_max_))\n",
    "# normalize the dataset and print the first 5 rows\n",
    "normalized = scaler.transform(values)\n",
    "for i in range(5):\n",
    "\tprint(normalized[i])\n",
    "# inverse transform and print the first 5 rows\n",
    "inversed = scaler.inverse_transform(normalized)\n",
    "for i in range(5):\n",
    "\tprint(inversed[i])"
   ]
  },
  {
   "cell_type": "code",
   "execution_count": 41,
   "metadata": {},
   "outputs": [],
   "source": [
    "ser1 = DataFrame(series)"
   ]
  },
  {
   "cell_type": "code",
   "execution_count": 46,
   "metadata": {},
   "outputs": [
    {
     "data": {
      "text/html": [
       "<div>\n",
       "<style scoped>\n",
       "    .dataframe tbody tr th:only-of-type {\n",
       "        vertical-align: middle;\n",
       "    }\n",
       "\n",
       "    .dataframe tbody tr th {\n",
       "        vertical-align: top;\n",
       "    }\n",
       "\n",
       "    .dataframe thead th {\n",
       "        text-align: right;\n",
       "    }\n",
       "</style>\n",
       "<table border=\"1\" class=\"dataframe\">\n",
       "  <thead>\n",
       "    <tr style=\"text-align: right;\">\n",
       "      <th></th>\n",
       "      <th>TEMP</th>\n",
       "      <th>normalized</th>\n",
       "      <th>log</th>\n",
       "      <th>loglog</th>\n",
       "    </tr>\n",
       "    <tr>\n",
       "      <th>YEARMODA</th>\n",
       "      <th></th>\n",
       "      <th></th>\n",
       "      <th></th>\n",
       "      <th></th>\n",
       "    </tr>\n",
       "  </thead>\n",
       "  <tbody>\n",
       "    <tr>\n",
       "      <th>2000-01-01</th>\n",
       "      <td>76.0</td>\n",
       "      <td>0.268199</td>\n",
       "      <td>4.330733</td>\n",
       "      <td>1.465737</td>\n",
       "    </tr>\n",
       "    <tr>\n",
       "      <th>2000-01-02</th>\n",
       "      <td>77.1</td>\n",
       "      <td>0.310345</td>\n",
       "      <td>4.345103</td>\n",
       "      <td>1.469050</td>\n",
       "    </tr>\n",
       "    <tr>\n",
       "      <th>2000-01-03</th>\n",
       "      <td>76.0</td>\n",
       "      <td>0.268199</td>\n",
       "      <td>4.330733</td>\n",
       "      <td>1.465737</td>\n",
       "    </tr>\n",
       "    <tr>\n",
       "      <th>2000-01-04</th>\n",
       "      <td>77.3</td>\n",
       "      <td>0.318008</td>\n",
       "      <td>4.347694</td>\n",
       "      <td>1.469646</td>\n",
       "    </tr>\n",
       "  </tbody>\n",
       "</table>\n",
       "</div>"
      ],
      "text/plain": [
       "            TEMP  normalized       log    loglog\n",
       "YEARMODA                                        \n",
       "2000-01-01  76.0    0.268199  4.330733  1.465737\n",
       "2000-01-02  77.1    0.310345  4.345103  1.469050\n",
       "2000-01-03  76.0    0.268199  4.330733  1.465737\n",
       "2000-01-04  77.3    0.318008  4.347694  1.469646"
      ]
     },
     "execution_count": 46,
     "metadata": {},
     "output_type": "execute_result"
    }
   ],
   "source": [
    "ser1['normalized']= scaler.transform(values)\n",
    "ser1['log']=np.log(values)\n",
    "ser1['loglog']=np.log(np.log(values))\n",
    "ser1.head(4)"
   ]
  },
  {
   "cell_type": "code",
   "execution_count": 48,
   "metadata": {},
   "outputs": [
    {
     "data": {
      "text/plain": [
       "77.10015798426569"
      ]
     },
     "execution_count": 48,
     "metadata": {},
     "output_type": "execute_result"
    }
   ],
   "source": [
    "real=np.exp(np.exp(1.469050))\n",
    "real"
   ]
  },
  {
   "cell_type": "code",
   "execution_count": 68,
   "metadata": {},
   "outputs": [],
   "source": [
    "def norm_series(series):\n",
    "    y = series.resample('MS').mean()\n",
    "    values2 = y.values\n",
    "    values2 = values2.reshape((len(values2), 1))\n",
    "    # train the normalization\n",
    "    scaler2 = MinMaxScaler(feature_range=(-1, 1))\n",
    "    scaler2 = scaler2.fit(values2)\n",
    "    ser2 = DataFrame(y)\n",
    "    ser2['normalized']= scaler2.transform(values2)\n",
    "    ser2['log']=np.log(values2 )\n",
    "    ser2['loglog']=np.log(np.log(values2 ))\n",
    "    ser2.head(4)\n",
    "    return ser2"
   ]
  },
  {
   "cell_type": "code",
   "execution_count": 69,
   "metadata": {},
   "outputs": [],
   "source": [
    "ser2=norm_series(series)"
   ]
  },
  {
   "cell_type": "code",
   "execution_count": 70,
   "metadata": {},
   "outputs": [
    {
     "data": {
      "text/plain": [
       "77.86666666666665"
      ]
     },
     "execution_count": 70,
     "metadata": {},
     "output_type": "execute_result"
    }
   ],
   "source": [
    "ser2['TEMP'][0]"
   ]
  },
  {
   "cell_type": "code",
   "execution_count": 71,
   "metadata": {},
   "outputs": [
    {
     "data": {
      "text/plain": [
       "4.354997962285962"
      ]
     },
     "execution_count": 71,
     "metadata": {},
     "output_type": "execute_result"
    }
   ],
   "source": [
    "ser2['log'][0]"
   ]
  },
  {
   "cell_type": "code",
   "execution_count": 72,
   "metadata": {},
   "outputs": [
    {
     "data": {
      "text/plain": [
       "-0.885479329091293"
      ]
     },
     "execution_count": 72,
     "metadata": {},
     "output_type": "execute_result"
    }
   ],
   "source": [
    "ser2['normalized'][0]"
   ]
  },
  {
   "cell_type": "code",
   "execution_count": 73,
   "metadata": {},
   "outputs": [
    {
     "data": {
      "text/plain": [
       "1.4713241424021666"
      ]
     },
     "execution_count": 73,
     "metadata": {},
     "output_type": "execute_result"
    }
   ],
   "source": [
    "ser2['loglog'][0]"
   ]
  },
  {
   "cell_type": "code",
   "execution_count": null,
   "metadata": {},
   "outputs": [],
   "source": []
  }
 ],
 "metadata": {
  "kernelspec": {
   "display_name": "Python 3",
   "language": "python",
   "name": "python3"
  },
  "language_info": {
   "codemirror_mode": {
    "name": "ipython",
    "version": 3
   },
   "file_extension": ".py",
   "mimetype": "text/x-python",
   "name": "python",
   "nbconvert_exporter": "python",
   "pygments_lexer": "ipython3",
   "version": "3.6.8"
  }
 },
 "nbformat": 4,
 "nbformat_minor": 2
}
